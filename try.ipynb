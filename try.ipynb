{
 "cells": [
  {
   "cell_type": "code",
   "execution_count": 1,
   "metadata": {},
   "outputs": [],
   "source": [
    "from omegaconf import OmegaConf"
   ]
  },
  {
   "cell_type": "code",
   "execution_count": 3,
   "metadata": {},
   "outputs": [
    {
     "data": {
      "text/plain": [
       "{}"
      ]
     },
     "execution_count": 3,
     "metadata": {},
     "output_type": "execute_result"
    }
   ],
   "source": [
    "conf = OmegaConf.create()\n",
    "conf"
   ]
  },
  {
   "cell_type": "code",
   "execution_count": 7,
   "metadata": {},
   "outputs": [
    {
     "name": "stdout",
     "output_type": "stream",
     "text": [
      "k: v\n",
      "list:\n",
      "- 1\n",
      "- a: '1'\n",
      "  b: '2'\n",
      "  3: c\n",
      "\n"
     ]
    }
   ],
   "source": [
    "conf = OmegaConf.create({\"k\" : \"v\", \"list\" : [1, {\"a\": \"1\", \"b\": \"2\", 3: \"c\"}]})\n",
    "print(OmegaConf.to_yaml(conf, resolve=True))"
   ]
  },
  {
   "cell_type": "code",
   "execution_count": 11,
   "metadata": {},
   "outputs": [
    {
     "data": {
      "text/plain": [
       "{'model': {'base_learning_rate': 4.5e-06, 'target': 'ldm.models.autoencoder.AutoencoderKL', 'params': {'monitor': 'val/rec_loss', 'embed_dim': 3, 'lossconfig': {'target': 'ldm.modules.losses.LPIPSWithDiscriminator', 'params': {'disc_start': 50001, 'kl_weight': 1e-06, 'disc_weight': 0.5}}, 'encoder': {'double_z': True, 'z_channels': 3, 'resolution': 256, 'ch': 128, 'in_channels': 3, 'out_ch': 3, 'ch_mult': [1, 2, 4], 'num_res_blocks': 2, 'attn_resolutions': [], 'dropout': 0.0}, 'ddconfig': {'double_z': True, 'z_channels': 3, 'resolution': 256, 'ch': 128, 'in_channels': 3, 'out_ch': 3, 'ch_mult': [1, 2, 4], 'num_res_blocks': 2, 'attn_resolutions': [], 'dropout': 0.0}}}, 'data': {'target': 'main.DataModuleFromConfig', 'params': {'batch_size': 10, 'wrap': True, 'train': {'target': 'ldm.data.openimages.FullOpenImagesTrain', 'params': {'size': 384, 'crop_size': 256}}, 'validation': {'target': 'ldm.data.openimages.FullOpenImagesValidation', 'params': {'size': 384, 'crop_size': 256}}}}}"
      ]
     },
     "execution_count": 11,
     "metadata": {},
     "output_type": "execute_result"
    }
   ],
   "source": [
    "conf = OmegaConf.load(\"ldm/config/kl-f4/config.yaml\")\n",
    "conf"
   ]
  },
  {
   "cell_type": "code",
   "execution_count": 13,
   "metadata": {},
   "outputs": [
    {
     "data": {
      "text/plain": [
       "'ldm.models.autoencoder.AutoencoderKL'"
      ]
     },
     "execution_count": 13,
     "metadata": {},
     "output_type": "execute_result"
    }
   ],
   "source": [
    "conf.model.target"
   ]
  },
  {
   "cell_type": "code",
   "execution_count": 14,
   "metadata": {},
   "outputs": [
    {
     "data": {
      "text/plain": [
       "{'model': {'base_learning_rate': 4.5e-06, 'target': 'ldm.models.autoencoder.AutoencoderKL', 'params': {'monitor': 'val/rec_loss', 'embed_dim': 3, 'lossconfig': {'target': 'ldm.modules.losses.LPIPSWithDiscriminator', 'params': {'disc_start': 50001, 'kl_weight': 1e-06, 'disc_weight': 0.5}}, 'encoder': {'double_z': True, 'z_channels': 3, 'resolution': 256, 'ch': 128, 'in_channels': 3, 'out_ch': 3, 'ch_mult': [1, 2, 4], 'num_res_blocks': 2, 'attn_resolutions': [], 'dropout': 0.0}, 'ddconfig': {'double_z': True, 'z_channels': 3, 'resolution': 256, 'ch': 128, 'in_channels': 3, 'out_ch': 3, 'ch_mult': [1, 2, 4], 'num_res_blocks': 2, 'attn_resolutions': [], 'dropout': 0.0}}}, 'data': {'target': 'main.DataModuleFromConfig', 'params': {'batch_size': 10, 'wrap': True, 'train': {'target': 'ldm.data.openimages.FullOpenImagesTrain', 'params': {'size': 384, 'crop_size': 256}}, 'validation': {'target': 'ldm.data.openimages.FullOpenImagesValidation', 'params': {'size': 384, 'crop_size': 256}}}}, 'new_values': {'state': 'happy'}}"
      ]
     },
     "execution_count": 14,
     "metadata": {},
     "output_type": "execute_result"
    }
   ],
   "source": [
    "conf.new_values = {\"state\": \"happy\"}\n",
    "conf"
   ]
  },
  {
   "cell_type": "code",
   "execution_count": 15,
   "metadata": {},
   "outputs": [
    {
     "data": {
      "text/plain": [
       "{'model': {'base_learning_rate': 4.5e-06, 'target': 'ldm.models.autoencoder.AutoencoderKL', 'params': {'monitor': 'val/rec_loss', 'embed_dim': 3, 'lossconfig': {'target': 'ldm.modules.losses.LPIPSWithDiscriminator', 'params': {'disc_start': 50001, 'kl_weight': 1e-06, 'disc_weight': 0.5}}, 'encoder': {'double_z': True, 'z_channels': 3, 'resolution': 256, 'ch': 128, 'in_channels': 3, 'out_ch': 3, 'ch_mult': [1, 2, 4], 'num_res_blocks': 2, 'attn_resolutions': [], 'dropout': 0.0}, 'ddconfig': {'double_z': True, 'z_channels': 3, 'resolution': 256, 'ch': 128, 'in_channels': 3, 'out_ch': 3, 'ch_mult': [1, 2, 4], 'num_res_blocks': 2, 'attn_resolutions': [], 'dropout': 0.0}}}, 'data': {'target': 'main.DataModuleFromConfig', 'params': {'batch_size': 10, 'wrap': True, 'train': {'target': 'ldm.data.openimages.FullOpenImagesTrain', 'params': {'size': 384, 'crop_size': 256}}, 'validation': {'target': 'ldm.data.openimages.FullOpenImagesValidation', 'params': {'size': 384, 'crop_size': 256}}}}, 'new_values': {'state': 'happy'}, 'a': {'b': 10}}"
      ]
     },
     "execution_count": 15,
     "metadata": {},
     "output_type": "execute_result"
    }
   ],
   "source": [
    "OmegaConf.merge(conf, OmegaConf.create({\"a\": {\"b\": 10}}))"
   ]
  },
  {
   "cell_type": "code",
   "execution_count": null,
   "metadata": {},
   "outputs": [],
   "source": []
  }
 ],
 "metadata": {
  "kernelspec": {
   "display_name": "ldm-env",
   "language": "python",
   "name": "python3"
  },
  "language_info": {
   "codemirror_mode": {
    "name": "ipython",
    "version": 3
   },
   "file_extension": ".py",
   "mimetype": "text/x-python",
   "name": "python",
   "nbconvert_exporter": "python",
   "pygments_lexer": "ipython3",
   "version": "3.12.4"
  }
 },
 "nbformat": 4,
 "nbformat_minor": 2
}
